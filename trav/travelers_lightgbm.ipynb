{
 "cells": [
  {
   "cell_type": "markdown",
   "metadata": {},
   "source": [
    "### IF YOU WANT TO SEE HOW I PERFORMED FEATURE ENGINEERING, SEE BELOW.\n",
    "\n",
    "https://github.com/cl20813/DS-projects/blob/main/trav/data_engineering_lightgbm.ipynb\n",
    "\n"
   ]
  },
  {
   "cell_type": "code",
   "execution_count": 1,
   "metadata": {},
   "outputs": [],
   "source": [
    "import pandas as pd\n",
    "import numpy as np\n",
    "from matplotlib import pyplot as plt\n",
    "from scipy import stats\n",
    "import lightgbm as lgb\n",
    "from sklearn.model_selection import StratifiedKFold\n",
    "from sklearn.metrics import roc_auc_score\n",
    "import concurrent.futures\n",
    "from sklearn.model_selection import train_test_split\n",
    "from sklearn.metrics import classification_report\n",
    "from sklearn.metrics import confusion_matrix"
   ]
  },
  {
   "cell_type": "markdown",
   "metadata": {},
   "source": [
    "The goal of the project is to predict policy holders who are likely to change from prospect to policy holder by choosing Travelers. This is a classification problem with binary response variable \"convert_ind\", where 0 indicates the policy holder continues to use Travelers. "
   ]
  },
  {
   "cell_type": "code",
   "execution_count": 2,
   "metadata": {},
   "outputs": [],
   "source": [
    "df = pd.read_csv(\"/Users/joonwonlee/Documents/A.I._Machine_Learning_Projects/trav/competitor.csv\")\n",
    "df = pd.read_csv(\"/Users/joonwonlee/Documents/A.I._Machine_Learning_Projects/trav/trav_dataset3.csv\")\n",
    "# Convert object columns to categorical.\n",
    "# Note that there is no categorical format in previous data,\n",
    "# so some variables are changed to object type.\n",
    "categorical_columns = ['credit_score_bin', 'Prior_carrier_grp']\n",
    "for col in categorical_columns:\n",
    "    df[col] = df[col].astype('category')"
   ]
  },
  {
   "cell_type": "markdown",
   "metadata": {},
   "source": [
    "#### Spliting dataset into training set and testing set\n",
    "\n",
    "Since the data is imbalanced, I splited the train and test set using 'stratify=df['convert_ind']' option."
   ]
  },
  {
   "cell_type": "code",
   "execution_count": 5,
   "metadata": {},
   "outputs": [],
   "source": [
    "# test_set = df.sample(frac=0.2, random_state=24)\n",
    "# test_mask = df.index.isin(test_set.index)\n",
    "# train_set = df.loc[~test_mask,:].reset_index(drop=True)\n",
    "# test_set = test_set.reset_index(drop=True)\n",
    "\n",
    "from sklearn.model_selection import train_test_split\n",
    "train_set, test_set = train_test_split(df, test_size=0.2, stratify=df['convert_ind'], random_state=24)\n",
    "\n",
    "# Separate features and target from the entire training set\n",
    "train_y = train_set['convert_ind']\n",
    "train_x = train_set.drop(columns=['convert_ind'])\n",
    "\n",
    "test_y = test_set['convert_ind']\n",
    "test_x = test_set.drop(columns=['convert_ind'])"
   ]
  },
  {
   "cell_type": "code",
   "execution_count": 6,
   "metadata": {},
   "outputs": [
    {
     "data": {
      "text/plain": [
       "1.1759457915740272"
      ]
     },
     "execution_count": 6,
     "metadata": {},
     "output_type": "execute_result"
    }
   ],
   "source": [
    "df['quoted_amt'].kurtosis()\n",
    "df['quoted_amt'] = np.log(df['quoted_amt']+1)\n",
    "df['quoted_amt'].kurtosis()"
   ]
  },
  {
   "cell_type": "markdown",
   "metadata": {},
   "source": [
    "#### Modeling After Optimizing Hyperparameters"
   ]
  },
  {
   "cell_type": "code",
   "execution_count": 19,
   "metadata": {},
   "outputs": [
    {
     "name": "stderr",
     "output_type": "stream",
     "text": [
      "/opt/anaconda3/envs/faiss_env/lib/python3.12/site-packages/sklearn/model_selection/_split.py:877: UserWarning: The groups parameter is ignored by StratifiedKFold\n",
      "  warnings.warn(\n"
     ]
    },
    {
     "name": "stdout",
     "output_type": "stream",
     "text": [
      "[LightGBM] [Info] Number of positive: 9048, number of negative: 72181\n",
      "[LightGBM] [Info] Auto-choosing row-wise multi-threading, the overhead of testing was 0.001302 seconds.\n",
      "You can set `force_row_wise=true` to remove the overhead.\n",
      "And if memory is not enough, you can set `force_col_wise=true`.\n",
      "[LightGBM] [Info] Total Bins 1361\n",
      "[LightGBM] [Info] Number of data points in the train set: 81229, number of used features: 31\n",
      "[LightGBM] [Info] Number of positive: 9048, number of negative: 72181\n",
      "[LightGBM] [Info] Auto-choosing row-wise multi-threading, the overhead of testing was 0.001038 seconds.\n",
      "You can set `force_row_wise=true` to remove the overhead.\n",
      "And if memory is not enough, you can set `force_col_wise=true`.\n",
      "[LightGBM] [Info] Total Bins 1361\n",
      "[LightGBM] [Info] Number of data points in the train set: 81229, number of used features: 31\n",
      "[LightGBM] [Info] Number of positive: 9048, number of negative: 72182\n",
      "[LightGBM] [Info] Auto-choosing row-wise multi-threading, the overhead of testing was 0.001019 seconds.\n",
      "You can set `force_row_wise=true` to remove the overhead.\n",
      "And if memory is not enough, you can set `force_col_wise=true`.\n",
      "[LightGBM] [Info] Total Bins 1361\n",
      "[LightGBM] [Info] Number of data points in the train set: 81230, number of used features: 31\n",
      "[LightGBM] [Info] Number of positive: 9048, number of negative: 72182\n",
      "[LightGBM] [Info] Auto-choosing row-wise multi-threading, the overhead of testing was 0.001306 seconds.\n",
      "You can set `force_row_wise=true` to remove the overhead.\n",
      "And if memory is not enough, you can set `force_col_wise=true`.\n",
      "[LightGBM] [Info] Total Bins 1361\n",
      "[LightGBM] [Info] Number of data points in the train set: 81230, number of used features: 31\n",
      "[LightGBM] [Info] Number of positive: 9048, number of negative: 72182\n",
      "[LightGBM] [Info] Auto-choosing row-wise multi-threading, the overhead of testing was 0.001376 seconds.\n",
      "You can set `force_row_wise=true` to remove the overhead.\n",
      "And if memory is not enough, you can set `force_col_wise=true`.\n",
      "[LightGBM] [Info] Total Bins 1361\n",
      "[LightGBM] [Info] Number of data points in the train set: 81230, number of used features: 31\n",
      "[LightGBM] [Info] [binary:BoostFromScore]: pavg=0.111389 -> initscore=-2.076633\n",
      "[LightGBM] [Info] Start training from score -2.076633\n",
      "[LightGBM] [Info] [binary:BoostFromScore]: pavg=0.111389 -> initscore=-2.076633\n",
      "[LightGBM] [Info] Start training from score -2.076633\n",
      "[LightGBM] [Info] [binary:BoostFromScore]: pavg=0.111387 -> initscore=-2.076647\n",
      "[LightGBM] [Info] Start training from score -2.076647\n",
      "[LightGBM] [Info] [binary:BoostFromScore]: pavg=0.111387 -> initscore=-2.076647\n",
      "[LightGBM] [Info] Start training from score -2.076647\n",
      "[LightGBM] [Info] [binary:BoostFromScore]: pavg=0.111387 -> initscore=-2.076647\n",
      "[LightGBM] [Info] Start training from score -2.076647\n",
      "Training until validation scores don't improve for 100 rounds\n",
      "[50]\tvalid's auc: 0.68654 + 0.00320835\tvalid's average_precision: 0.235683 + 0.00475235\n",
      "[100]\tvalid's auc: 0.697883 + 0.00181998\tvalid's average_precision: 0.245413 + 0.00432473\n",
      "[150]\tvalid's auc: 0.704329 + 0.00193485\tvalid's average_precision: 0.251668 + 0.00435337\n",
      "[200]\tvalid's auc: 0.70947 + 0.0020385\tvalid's average_precision: 0.257603 + 0.00400068\n",
      "[250]\tvalid's auc: 0.713861 + 0.00228711\tvalid's average_precision: 0.262062 + 0.00400835\n",
      "[300]\tvalid's auc: 0.718205 + 0.00243407\tvalid's average_precision: 0.266452 + 0.00394921\n",
      "[350]\tvalid's auc: 0.721936 + 0.00263501\tvalid's average_precision: 0.270127 + 0.00414483\n",
      "[400]\tvalid's auc: 0.725641 + 0.00271826\tvalid's average_precision: 0.273758 + 0.00450923\n",
      "[450]\tvalid's auc: 0.728933 + 0.00288867\tvalid's average_precision: 0.277562 + 0.00488079\n",
      "[500]\tvalid's auc: 0.732378 + 0.00294381\tvalid's average_precision: 0.281386 + 0.00496383\n",
      "[550]\tvalid's auc: 0.735638 + 0.00283043\tvalid's average_precision: 0.285917 + 0.00558892\n",
      "[600]\tvalid's auc: 0.738456 + 0.00267958\tvalid's average_precision: 0.289398 + 0.00572012\n",
      "[650]\tvalid's auc: 0.741503 + 0.00266199\tvalid's average_precision: 0.292945 + 0.00583317\n",
      "[700]\tvalid's auc: 0.744458 + 0.00250501\tvalid's average_precision: 0.297106 + 0.00554305\n",
      "[750]\tvalid's auc: 0.746931 + 0.00244868\tvalid's average_precision: 0.300541 + 0.00535011\n",
      "[800]\tvalid's auc: 0.749417 + 0.002482\tvalid's average_precision: 0.30397 + 0.00547356\n",
      "[850]\tvalid's auc: 0.752102 + 0.00199002\tvalid's average_precision: 0.307648 + 0.00553341\n",
      "[900]\tvalid's auc: 0.754694 + 0.00204027\tvalid's average_precision: 0.311276 + 0.00561544\n",
      "[950]\tvalid's auc: 0.757058 + 0.00206713\tvalid's average_precision: 0.315323 + 0.0057622\n",
      "[1000]\tvalid's auc: 0.759487 + 0.00216214\tvalid's average_precision: 0.318729 + 0.00583908\n",
      "[1050]\tvalid's auc: 0.762032 + 0.00228095\tvalid's average_precision: 0.322474 + 0.00631235\n",
      "[1100]\tvalid's auc: 0.764391 + 0.00255827\tvalid's average_precision: 0.325957 + 0.00663814\n",
      "[1150]\tvalid's auc: 0.766523 + 0.00248914\tvalid's average_precision: 0.329784 + 0.0065106\n",
      "[1200]\tvalid's auc: 0.768643 + 0.00251231\tvalid's average_precision: 0.33351 + 0.006181\n",
      "[1250]\tvalid's auc: 0.770772 + 0.00246059\tvalid's average_precision: 0.33692 + 0.00656352\n",
      "[1300]\tvalid's auc: 0.773105 + 0.00238326\tvalid's average_precision: 0.340636 + 0.00621202\n",
      "[1350]\tvalid's auc: 0.775196 + 0.00247974\tvalid's average_precision: 0.344554 + 0.00627686\n",
      "[1400]\tvalid's auc: 0.777203 + 0.00247384\tvalid's average_precision: 0.348101 + 0.00659826\n",
      "[1450]\tvalid's auc: 0.779116 + 0.00258982\tvalid's average_precision: 0.351417 + 0.00638814\n",
      "[1500]\tvalid's auc: 0.780975 + 0.00262022\tvalid's average_precision: 0.354827 + 0.00645507\n",
      "[1550]\tvalid's auc: 0.782626 + 0.00252605\tvalid's average_precision: 0.358055 + 0.00643203\n",
      "[1600]\tvalid's auc: 0.784406 + 0.00244961\tvalid's average_precision: 0.361469 + 0.00663466\n",
      "[1650]\tvalid's auc: 0.786365 + 0.00244829\tvalid's average_precision: 0.364659 + 0.00693594\n",
      "[1700]\tvalid's auc: 0.78803 + 0.00244515\tvalid's average_precision: 0.368167 + 0.00692752\n",
      "[1750]\tvalid's auc: 0.790015 + 0.00234182\tvalid's average_precision: 0.371902 + 0.00722527\n",
      "[1800]\tvalid's auc: 0.791849 + 0.00231121\tvalid's average_precision: 0.375598 + 0.00701183\n",
      "[1850]\tvalid's auc: 0.793547 + 0.00263057\tvalid's average_precision: 0.37912 + 0.0075171\n",
      "[1900]\tvalid's auc: 0.795206 + 0.00261547\tvalid's average_precision: 0.382197 + 0.00737413\n",
      "[1950]\tvalid's auc: 0.796932 + 0.00257107\tvalid's average_precision: 0.385844 + 0.00691592\n",
      "[2000]\tvalid's auc: 0.798626 + 0.00270011\tvalid's average_precision: 0.389576 + 0.00711204\n",
      "Did not meet early stopping. Best iteration is:\n",
      "[2000]\tvalid's auc: 0.798626 + 0.00270011\tvalid's average_precision: 0.389576 + 0.00711204\n",
      "Best number of boosting rounds: 2000\n",
      "[LightGBM] [Info] Number of positive: 11310, number of negative: 90227\n",
      "[LightGBM] [Info] Auto-choosing row-wise multi-threading, the overhead of testing was 0.001229 seconds.\n",
      "You can set `force_row_wise=true` to remove the overhead.\n",
      "And if memory is not enough, you can set `force_col_wise=true`.\n",
      "[LightGBM] [Info] Total Bins 1361\n",
      "[LightGBM] [Info] Number of data points in the train set: 101537, number of used features: 31\n",
      "[LightGBM] [Info] [binary:BoostFromScore]: pavg=0.111388 -> initscore=-2.076641\n",
      "[LightGBM] [Info] Start training from score -2.076641\n",
      "[LightGBM] [Info] Number of positive: 11310, number of negative: 90227\n",
      "[LightGBM] [Info] Auto-choosing row-wise multi-threading, the overhead of testing was 0.001184 seconds.\n",
      "You can set `force_row_wise=true` to remove the overhead.\n",
      "And if memory is not enough, you can set `force_col_wise=true`.\n",
      "[LightGBM] [Info] Total Bins 1361\n",
      "[LightGBM] [Info] Number of data points in the train set: 101537, number of used features: 31\n",
      "[LightGBM] [Info] [binary:BoostFromScore]: pavg=0.111388 -> initscore=-2.076641\n",
      "[LightGBM] [Info] Start training from score -2.076641\n",
      "[50]\ttrain's auc: 0.694396\ttrain's average_precision: 0.2463\n",
      "[100]\ttrain's auc: 0.706886\ttrain's average_precision: 0.258025\n",
      "[150]\ttrain's auc: 0.714307\ttrain's average_precision: 0.265276\n",
      "[200]\ttrain's auc: 0.720722\ttrain's average_precision: 0.272341\n",
      "[250]\ttrain's auc: 0.72648\ttrain's average_precision: 0.278458\n",
      "[300]\ttrain's auc: 0.731728\ttrain's average_precision: 0.284722\n",
      "[350]\ttrain's auc: 0.736699\ttrain's average_precision: 0.28974\n",
      "[400]\ttrain's auc: 0.741645\ttrain's average_precision: 0.294597\n",
      "[450]\ttrain's auc: 0.746506\ttrain's average_precision: 0.299891\n",
      "[500]\ttrain's auc: 0.751376\ttrain's average_precision: 0.305338\n",
      "[550]\ttrain's auc: 0.755889\ttrain's average_precision: 0.311472\n",
      "[600]\ttrain's auc: 0.760296\ttrain's average_precision: 0.31792\n",
      "[650]\ttrain's auc: 0.764545\ttrain's average_precision: 0.323611\n",
      "[700]\ttrain's auc: 0.76932\ttrain's average_precision: 0.329355\n",
      "[750]\ttrain's auc: 0.773069\ttrain's average_precision: 0.335116\n",
      "[800]\ttrain's auc: 0.77676\ttrain's average_precision: 0.341\n",
      "[850]\ttrain's auc: 0.780778\ttrain's average_precision: 0.348217\n",
      "[900]\ttrain's auc: 0.783855\ttrain's average_precision: 0.355056\n",
      "[950]\ttrain's auc: 0.787089\ttrain's average_precision: 0.361884\n",
      "[1000]\ttrain's auc: 0.789815\ttrain's average_precision: 0.367566\n",
      "[1050]\ttrain's auc: 0.79353\ttrain's average_precision: 0.372997\n",
      "[1100]\ttrain's auc: 0.79703\ttrain's average_precision: 0.379209\n",
      "[1150]\ttrain's auc: 0.799715\ttrain's average_precision: 0.385932\n",
      "[1200]\ttrain's auc: 0.802806\ttrain's average_precision: 0.391348\n",
      "[1250]\ttrain's auc: 0.805572\ttrain's average_precision: 0.396902\n",
      "[1300]\ttrain's auc: 0.808382\ttrain's average_precision: 0.403334\n",
      "[1350]\ttrain's auc: 0.811042\ttrain's average_precision: 0.409228\n",
      "[1400]\ttrain's auc: 0.813747\ttrain's average_precision: 0.414396\n",
      "[1450]\ttrain's auc: 0.816165\ttrain's average_precision: 0.419997\n",
      "[1500]\ttrain's auc: 0.819103\ttrain's average_precision: 0.425179\n",
      "[1550]\ttrain's auc: 0.821846\ttrain's average_precision: 0.431233\n",
      "[1600]\ttrain's auc: 0.824666\ttrain's average_precision: 0.438062\n",
      "[1650]\ttrain's auc: 0.827612\ttrain's average_precision: 0.443769\n",
      "[1700]\ttrain's auc: 0.829795\ttrain's average_precision: 0.449089\n",
      "[1750]\ttrain's auc: 0.832505\ttrain's average_precision: 0.454057\n",
      "[1800]\ttrain's auc: 0.835338\ttrain's average_precision: 0.45988\n",
      "[1850]\ttrain's auc: 0.837685\ttrain's average_precision: 0.46441\n",
      "[1900]\ttrain's auc: 0.840281\ttrain's average_precision: 0.46982\n",
      "[1950]\ttrain's auc: 0.842664\ttrain's average_precision: 0.47474\n",
      "[2000]\ttrain's auc: 0.84506\ttrain's average_precision: 0.480478\n"
     ]
    },
    {
     "data": {
      "text/plain": [
       "<lightgbm.basic.Booster at 0x322965400>"
      ]
     },
     "execution_count": 19,
     "metadata": {},
     "output_type": "execute_result"
    }
   ],
   "source": [
    "# Define the best hyperparameters from cross-validation\n",
    "best_params = {\n",
    "    'objective': 'binary',\n",
    "    'boosting_type': 'gbdt',\n",
    "    'metric': ['auc', 'average_precision'],\n",
    "    'num_leaves': 15,  # optimal   15>14,20,16, 18\n",
    "    'learning_rate': 0.009, # 0.009>0.01, 0.008,0.007 >0.005,0.02> 0.003, 0.004, 0.006\n",
    "    'feature_fraction': 0.8, # 0.8 >0.75 for prob but not for label\n",
    "    # 0.6> 0.55, 0.65> 0.7 >0.75 \n",
    "    'bagging_fraction': 0.8,  #0.8>0.6 ,0.7 , 0.85\n",
    "    'bagging_freq': 5, # 5>4,6\n",
    "    'random_state': 42,\n",
    "    'min_data_in_leaf': 20, # 20> 15,18, 22\n",
    "    'lambda_l1': 1,  # this 1,0.1 is nearly optimal\n",
    "    'lambda_l2': 0.1,\n",
    "    'n_jobs': -1,  # Use all CPU cores\n",
    "    'max_depth': 12,  # Prevent overfitting 6 default  5>6,4   \n",
    "    # but 4 is better for prob and 5 is better for label prediction\n",
    "    'min_gain_to_split': 0,  # Minimum gain for splitting\n",
    "    # 0.005 >0 for label but 0 better for probability prediction\n",
    "    'max_bin': 255,  # Precision for bins\n",
    "    'min_sum_hessian_in_leaf': 1e-2,  # Prevent overfitting in leaves 1e-3=1e-2\n",
    "    \n",
    "}\n",
    "\n",
    "import lightgbm as lgb\n",
    "from sklearn.model_selection import StratifiedKFold\n",
    "\n",
    "# Define the number of folds\n",
    "n_folds = 5\n",
    "skf = StratifiedKFold(n_splits=n_folds, shuffle=True, random_state=42)\n",
    "\n",
    "# Create the dataset\n",
    "full_train_dataset = lgb.Dataset(train_x, label=train_y)\n",
    "\n",
    "# Perform cross-validation\n",
    "\n",
    "cv_results = lgb.cv(\n",
    "    best_params,\n",
    "    full_train_dataset,\n",
    "    num_boost_round=2000,\n",
    "    folds=skf,\n",
    "    stratified=True,\n",
    "    metrics=['auc', 'average_precision'],\n",
    "    callbacks=[\n",
    "        lgb.early_stopping(stopping_rounds=100),\n",
    "        lgb.log_evaluation(period=50)\n",
    "    ],\n",
    "    seed=42\n",
    ")\n",
    "\n",
    "\n",
    "\n",
    "# Get the best number of boosting rounds\n",
    "best_num_boost_round = len(cv_results['valid auc-mean'])\n",
    "print(f\"Best number of boosting rounds: {best_num_boost_round}\")\n",
    "\n",
    "\n",
    "\n",
    "final_metrics= {}\n",
    "def track_final_metrics(env):\n",
    "    if env.iteration == env.end_iteration - 1:\n",
    "        final_metrics['iteration'] = env.iteration + 1# 0-based index\n",
    "        final_metrics['training_loss'] = env.evaluation_result_list[0][2]\n",
    "\n",
    "\n",
    "\n",
    "final_model = lgb.train(\n",
    "    best_params,\n",
    "    full_train_dataset,\n",
    "    num_boost_round=best_num_boost_round,\n",
    "    valid_sets=[full_train_dataset],\n",
    "    valid_names=['train'],\n",
    "    callbacks= [track_final_metrics]\n",
    ")\n",
    "\n",
    "\n",
    "final_model.save_model('final_model.txt')\n",
    "\n",
    "\n",
    "# Define a logging callback\n",
    "callbacks = [lgb.log_evaluation(period=50)]\n",
    "\n",
    "# Train the final model using the best number of boosting rounds\n",
    "final_model = lgb.train(\n",
    "    best_params,\n",
    "    full_train_dataset,\n",
    "    num_boost_round=best_num_boost_round,\n",
    "    valid_sets=[full_train_dataset],\n",
    "    valid_names=['train'],\n",
    "    callbacks=[lgb.log_evaluation(period=50)]\n",
    ")\n",
    "\n",
    "# Save the model\n",
    "final_model.save_model('final_model.txt')"
   ]
  },
  {
   "cell_type": "code",
   "execution_count": 21,
   "metadata": {},
   "outputs": [
    {
     "data": {
      "text/plain": [
       "{'iteration': 2000, 'training_loss': 0.8450596847599351}"
      ]
     },
     "execution_count": 21,
     "metadata": {},
     "output_type": "execute_result"
    }
   ],
   "source": [
    "final_metrics"
   ]
  },
  {
   "cell_type": "code",
   "execution_count": 90,
   "metadata": {},
   "outputs": [
    {
     "data": {
      "text/plain": [
       "0.8450596847599351"
      ]
     },
     "execution_count": 90,
     "metadata": {},
     "output_type": "execute_result"
    }
   ],
   "source": [
    "final_model.best_score['train']['auc']"
   ]
  },
  {
   "cell_type": "code",
   "execution_count": null,
   "metadata": {},
   "outputs": [],
   "source": [
    "from pathlib import Path\n",
    "import json\n",
    "from json import JSONEncoder\n",
    "import csv\n",
    "from typing import List, Tuple, Dict, Any\n",
    "import pickle\n",
    "\n",
    "\n",
    "\n",
    "best_params = {\n",
    "    'objective': 'binary',\n",
    "    'boosting_type': 'gbdt',\n",
    "    'metric': ['auc', 'average_precision'],\n",
    "    'num_leaves': 15,  # optimal   15>14,20,16, 18\n",
    "    'learning_rate': 0.009, # 0.009>0.01, 0.008,0.007 >0.005,0.02> 0.003, 0.004, 0.006\n",
    "    'feature_fraction': 0.8, # 0.8 >0.75 for prob but not for label\n",
    "    # 0.6> 0.55, 0.65> 0.7 >0.75 \n",
    "    'bagging_fraction': 0.8,  #0.8>0.6 ,0.7 , 0.85\n",
    "    'bagging_freq': 5, # 5>4,6\n",
    "    'random_state': 42,\n",
    "    'min_data_in_leaf': 20, # 20> 15,18, 22\n",
    "    'lambda_l1': 1,  # this 1,0.1 is nearly optimal\n",
    "    'lambda_l2': 0.1,\n",
    "    'n_jobs': -1,  # Use all CPU cores\n",
    "    'max_depth': 12,  # Prevent overfitting 6 default  5>6,4   \n",
    "    # but 4 is better for prob and 5 is better for label prediction\n",
    "    'min_gain_to_split': 0,  # Minimum gain for splitting\n",
    "    # 0.005 >0 for label but 0 better for probability prediction\n",
    "    'max_bin': 255,  # Precision for bins\n",
    "    'min_sum_hessian_in_leaf': 1e-2,  # Prevent overfitting in leaves 1e-3=1e-2\n",
    "    \n",
    "}\n",
    "\n",
    "\n",
    "class hyp_optimization:\n",
    "    def __init__(self, best_params, model_result):\n",
    "        \"\"\"\n",
    "        Initialize the optimization algorithm parameters.\n",
    "\n",
    "        Parameters:\n",
    "        - day (int): Day of the optimization.\n",
    "        - cov_name (str): Name of the covariance model.\n",
    "        - lat_lon_resolution (List[int]): Resolution for latitude and longitude.\n",
    "        - lr (float): Learning rate.\n",
    "        - stepsize (float): Step size for the optimization.\n",
    "        - params (List[float]): List of parameters for the model.\n",
    "        - time (float): Time parameter.\n",
    "        - epoch (int): Number of epochs.\n",
    "        \"\"\"\n",
    "        self.final_auc = final_model.best_score['train']['auc'].round(4)\n",
    "        self.final_average_precision = model_result['train']['average_precision'].round(4)\n",
    "        self.objective = best_params['objective']\n",
    "        self.boosting_type = best_params['boosting_type']\n",
    "        self.metric = best_params['metric']\n",
    "        self.num_leaves = best_params['num_leaves']\n",
    "        self.max_depth = best_params['max_depth']\n",
    "        self.learning_rate = best_params['learning_rate']\n",
    "        self.feature_fraction = best_params['feature_fraction']\n",
    "        self.bagging_fraction = best_params['bagging_fraction']\n",
    "        self.bagging_freq = best_params['bagging_freq']\n",
    "        self.min_gain_to_split = best_params['min_gain_to_split']\n",
    "        \n",
    "    def toJSON(self) -> str:\n",
    "        \"\"\"\n",
    "        Convert the object to a JSON string.\n",
    "\n",
    "        Returns:\n",
    "        - str: JSON representation of the object.\n",
    "        \"\"\"\n",
    "        return json.dumps(self, cls=alg_opt_Encoder, sort_keys=False)\n",
    "\n",
    "    def save(self, input_filepath: Path, data: Any) -> None:\n",
    "        \"\"\"\n",
    "        Save the aggregated data back to the JSON file.\n",
    "\n",
    "        Parameters:\n",
    "        - input_filepath (Path): Path to the JSON file.\n",
    "        - data (Any): Data to be saved.\n",
    "        \"\"\"\n",
    "        with input_filepath.open('w', encoding='utf-8') as json_file:\n",
    "            json_file.write(json.dumps(data, separators=(\",\", \":\"), indent=4))\n",
    "\n",
    "\n",
    "    def to_dict(self) -> Dict[str, Any]:\n",
    "        return self.__dict__\n",
    "\n",
    "\n",
    "\n",
    "    def load(self, input_filepath: Path) -> Any:\n",
    "        \"\"\"\n",
    "        Load data from a JSON file.\n",
    "\n",
    "        Parameters:\n",
    "        - input_filepath (Path): Path to the JSON file.\n",
    "\n",
    "        Returns:\n",
    "        - Any: Loaded data.\n",
    "        \"\"\"\n",
    "        try:\n",
    "            with input_filepath.open('r', encoding='utf-8') as f:\n",
    "                loaded_data = json.load(f)\n",
    "        except FileNotFoundError:\n",
    "            loaded_data = []\n",
    "        return loaded_data\n",
    "    \n",
    "    def tocsv(self, jsondata: List[str], fieldnames: List[str], csv_filepath: Path) -> None:\n",
    "        \"\"\"\n",
    "        Convert JSON data to CSV format.\n",
    "\n",
    "        Parameters:\n",
    "        - jsondata (List[str]): List of JSON strings.\n",
    "        - fieldnames (List[str]): List of field names for the CSV.\n",
    "        - csv_filepath (Path): Path to the CSV file.\n",
    "        \"\"\"\n",
    "        data_dicts = [json.loads(data) for data in jsondata]\n",
    "        with csv_filepath.open(mode='w', newline='') as file:\n",
    "            writer = csv.DictWriter(file, fieldnames=fieldnames)\n",
    "            writer.writeheader()\n",
    "            for data in data_dicts:\n",
    "                writer.writerow(data)\n",
    "\n",
    "\n",
    "class alg_opt_Encoder(JSONEncoder):\n",
    "    \"\"\"\n",
    "    Custom JSON encoder for alg_optimization objects.\n",
    "    \"\"\"\n",
    "    def default(self, obj: Any) -> Dict[str, Any]:\n",
    "        \"\"\"\n",
    "        Override the default method to handle alg_optimization objects.\n",
    "\n",
    "        Parameters:\n",
    "        - o (Any): Object to be encoded.\n",
    "\n",
    "        Returns:\n",
    "        - Dict[str, Any]: Dictionary representation of the object.\n",
    "        \"\"\"\n",
    "        if isinstance(obj, hyp_optimization):\n",
    "            return obj.__dict__\n",
    "        return super().default(obj)  # delegates the serialization process to the standard JSONEncoder"
   ]
  },
  {
   "cell_type": "code",
   "execution_count": null,
   "metadata": {},
   "outputs": [
    {
     "name": "stdout",
     "output_type": "stream",
     "text": [
      "{'final_auc': 0.8455, 'final_average_precision': 0.4779, 'objective': 'binary', 'boosting_type': 'gbdt', 'metric': ['auc', 'average_precision'], 'num_leaves': 15, 'max_depth': 12, 'learning_rate': 0.009, 'feature_fraction': 0.8, 'bagging_fraction': 0.8, 'bagging_freq': 5, 'min_gain_to_split': 0}\n"
     ]
    }
   ],
   "source": [
    "\n",
    "output_path = Path('/Users/joonwonlee/Documents/A.I._Machine_Learning_Projects/trav/experiments')\n",
    "input_filepath = output_path / f\"testing.json\"\n",
    "\n",
    "res = hyp_optimization(best_params, final_model.best_score)\n",
    "loaded_data = res.load(input_filepath)\n",
    "# loaded_data.append( res.toJSON() )\n",
    "loaded_data.append(res.to_dict())  # Use to_dict instead of toJSON\n",
    "res.save(input_filepath, loaded_data)\n",
    "\n",
    "# Sort the list of dictionaries by final_auc\n",
    "sorted_list = sorted(loaded_data, key=lambda x: x['final_auc'], reverse=True)\n",
    "print(sorted_list[0])"
   ]
  },
  {
   "cell_type": "code",
   "execution_count": 64,
   "metadata": {},
   "outputs": [],
   "source": [
    "import pickle\n",
    "model_path = output_path / f\"testing.pickle\"\n",
    "with open (model_path, 'wb') as f:\n",
    "    pickle.dump(final_model,f)\n",
    "\n",
    "\n",
    "with open (model_path, 'rb') as f:\n",
    "    test = pickle.load(f)"
   ]
  },
  {
   "cell_type": "markdown",
   "metadata": {},
   "source": [
    "# test for optuna"
   ]
  },
  {
   "cell_type": "code",
   "execution_count": null,
   "metadata": {},
   "outputs": [],
   "source": [
    "import optuna\n",
    "import lightgbm as lgb\n",
    "from sklearn.model_selection import StratifiedKFold\n",
    "from sklearn.metrics import roc_auc_score\n",
    "\n",
    "# Define the objective function for Optuna\n",
    "def objective(trial):\n",
    "    param = {\n",
    "        'objective': 'binary',\n",
    "        'boosting_type': 'gbdt',\n",
    "        'metric': ['auc', 'average_precision'],\n",
    "        'verbosity': -1,\n",
    "        'n_jobs': -1,\n",
    "        'random_state': 42,\n",
    "        'learning_rate': trial.suggest_float('learning_rate', 0.003, 0.02, log=True),   # this is a range (0.003, 0.02)\n",
    "        'num_leaves': trial.suggest_int('num_leaves', 10, 40),                          # [10, 40]\n",
    "        'feature_fraction': trial.suggest_float('feature_fraction', 0.6, 0.9),\n",
    "        'bagging_fraction': trial.suggest_float('bagging_fraction', 0.6, 0.9),\n",
    "        'bagging_freq': trial.suggest_int('bagging_freq', 1, 7),\n",
    "        'min_data_in_leaf': trial.suggest_int('min_data_in_leaf', 10, 30),\n",
    "        'lambda_l1': trial.suggest_float('lambda_l1', 0.0, 5.0),\n",
    "        'lambda_l2': trial.suggest_float('lambda_l2', 0.0, 5.0),\n",
    "        'max_depth': trial.suggest_int('max_depth', 4, 12),\n",
    "        'min_gain_to_split': trial.suggest_float('min_gain_to_split', 0.0, 0.01),\n",
    "        'max_bin': 255,\n",
    "        'min_sum_hessian_in_leaf': 1e-2,\n",
    "    }\n",
    "\n",
    "    cv = StratifiedKFold(n_splits=5, shuffle=True, random_state=42)\n",
    "    lgb_dataset = lgb.Dataset(train_x, label=train_y)\n",
    "\n",
    "    cv_results = lgb.cv(\n",
    "        param,\n",
    "        lgb_dataset,\n",
    "        num_boost_round=2000,\n",
    "        folds=cv,\n",
    "        stratified=True,\n",
    "        callbacks=[\n",
    "            lgb.early_stopping(stopping_rounds=100),\n",
    "            lgb.log_evaluation(period=0)\n",
    "        ],\n",
    "        seed=42\n",
    "    )\n",
    "\n",
    "    return max(cv_results['valid auc-mean'])\n",
    "\n",
    "# Run the Optuna study\n",
    "study = optuna.create_study(direction='maximize')\n",
    "study.optimize(objective, n_trials=50)\n",
    "\n",
    "# Print the best parameters\n",
    "print(\"Best trial:\")\n",
    "print(study.best_trial.params)\n"
   ]
  },
  {
   "cell_type": "code",
   "execution_count": 92,
   "metadata": {},
   "outputs": [
    {
     "data": {
      "image/png": "[encoded data removed]",
      "text/plain": [
       "<Figure size 640x480 with 1 Axes>"
      ]
     },
     "metadata": {},
     "output_type": "display_data"
    }
   ],
   "source": [
    "lgb.plot_importance(final_model, max_num_features=30, importance_type='gain')\n",
    "plt.title(\"Feature Importance\")\n",
    "plt.show()"
   ]
  },
  {
   "cell_type": "markdown",
   "metadata": {},
   "source": [
    "# Results"
   ]
  },
  {
   "cell_type": "markdown",
   "metadata": {},
   "source": [
    "AUC score is a cumulative measure of a classifier's ability to detect true positives as the Type I error rate (i.e., False Positive Rate) varies.\n",
    "\n",
    "If your goal is to predict the probability of conversion, then AUC is a good metric. However, if you want to evaluate performance after predicting labels, you should consider metrics like recall, precision, and F1-score, as AUC does not depend on the classification threshold, but these metrics do.\n",
    "\n",
    "But I added AUC score for class prediction as well because I don't want a model that shows a huge discrepancy between two scores. "
   ]
  },
  {
   "cell_type": "code",
   "execution_count": 9,
   "metadata": {},
   "outputs": [
    {
     "name": "stdout",
     "output_type": "stream",
     "text": [
      "Test data, probability prediction AUC: 0.8015\n",
      "Test data, class (0, 1) prediction AUC: 0.7215\n"
     ]
    }
   ],
   "source": [
    "test_y = test_set['convert_ind']\n",
    "test_x = test_set.drop(columns=['convert_ind'])\n",
    "\n",
    "mm = df['convert_ind'].mean()\n",
    "\n",
    "test_pred = final_model.predict(test_x)\n",
    "test_pred2 = (test_pred > mm).astype(int)\n",
    "test_auc = roc_auc_score(test_y, test_pred)\n",
    "test_auc2 = roc_auc_score(test_y, test_pred2)\n",
    "print(f\"Test data, probability prediction AUC: {test_auc:.4f}\")\n",
    "print(f\"Test data, class {0,1} prediction AUC: {test_auc2:.4f}\")"
   ]
  },
  {
   "cell_type": "markdown",
   "metadata": {},
   "source": [
    "### Is this a good model for imbalanced data?\n",
    "\n",
    "While the project required to predict the probability of conversion, so looking at the AUC is enough and 0.8015 is quite good but for the real business problems, we need to look at other scores as well."
   ]
  },
  {
   "cell_type": "code",
   "execution_count": 11,
   "metadata": {},
   "outputs": [
    {
     "name": "stdout",
     "output_type": "stream",
     "text": [
      "Confusion matrix\n",
      "\n",
      " [[15250  7307]\n",
      " [  659  2169]]\n",
      "\n",
      "True Positives(TP) =  15250\n",
      "\n",
      "True Negatives(TN) =  2169\n",
      "\n",
      "False Positives(FP) =  7307\n",
      "\n",
      "False Negatives(FN) =  659\n"
     ]
    }
   ],
   "source": [
    "cm = confusion_matrix(test_y, test_pred2)\n",
    "print('Confusion matrix\\n\\n', cm)\n",
    "print('\\nTrue Positives(TP) = ', cm[0,0])\n",
    "print('\\nTrue Negatives(TN) = ', cm[1,1])\n",
    "print('\\nFalse Positives(FP) = ', cm[0,1])\n",
    "print('\\nFalse Negatives(FN) = ', cm[1,0])"
   ]
  },
  {
   "cell_type": "code",
   "execution_count": 12,
   "metadata": {},
   "outputs": [
    {
     "name": "stdout",
     "output_type": "stream",
     "text": [
      "              precision    recall  f1-score   support\n",
      "\n",
      "         0.0       0.96      0.68      0.79     22557\n",
      "         1.0       0.23      0.77      0.35      2828\n",
      "\n",
      "    accuracy                           0.69     25385\n",
      "   macro avg       0.59      0.72      0.57     25385\n",
      "weighted avg       0.88      0.69      0.74     25385\n",
      "\n"
     ]
    }
   ],
   "source": [
    "print(classification_report(test_y, test_pred2))"
   ]
  },
  {
   "cell_type": "markdown",
   "metadata": {},
   "source": [
    "It is important to see the scores for Class 1.0. There is a room for improvement if precision and f1-score are important. However, considering the business, I think it is important to aim for high recall in class 1, and the score 0.77 is quite good for the business. "
   ]
  },
  {
   "cell_type": "markdown",
   "metadata": {},
   "source": [
    "#### Reference: Hyper Parameter Optimization\n",
    "\n",
    "It seems grid search is more efficient than RandomizedSearch"
   ]
  },
  {
   "cell_type": "code",
   "execution_count": null,
   "metadata": {},
   "outputs": [],
   "source": [
    "def evaluate_model(params, train_x, train_y, skf):\n",
    "    \"\"\"Evaluate a model with the given parameters using cross-validation.\"\"\"\n",
    "    train_set = lgb.Dataset(train_x, label=train_y)\n",
    "    \n",
    "    # Perform cross-validation\n",
    "    cv_results = lgb.cv(\n",
    "        params,\n",
    "        train_set,\n",
    "        num_boost_round=2000,\n",
    "        folds=skf.split(train_x, train_y),\n",
    "        metrics='auc',\n",
    "        seed=42\n",
    "    )\n",
    "    \n",
    "    # Get the best AUC score\n",
    "    score = max(cv_results['valid auc-mean'])\n",
    "    return score\n",
    "\n",
    "# Parameter grid for hyperparameter tuning\n",
    "param_grid = {\n",
    "    'num_leaves': np.arange(10, 20),\n",
    "    'learning_rate': [0.005, 0.01, 0.02, 0.03],\n",
    "    'feature_fraction': [0.75, 0.8, 0.85],\n",
    "    'min_data_in_leaf': [10, 20, 30],\n",
    "    'lambda_l1': 1,\n",
    "    'lambda_l2': 0.1,\n",
    "    'early_stopping_rounds':50\n",
    "}\n",
    "\n",
    "skf = StratifiedKFold(n_splits=10, shuffle=True, random_state=42)\n",
    "best_score = 0\n",
    "best_params = None\n",
    "\n",
    "# Create a list of all parameter combinations\n",
    "param_combinations = [\n",
    "    {\n",
    "        'objective': 'binary',\n",
    "        'boosting_type': 'gbdt',\n",
    "        'metric': 'auc',\n",
    "        'num_leaves': num_leaves,\n",
    "        'learning_rate': learning_rate,\n",
    "        'feature_fraction': feature_fraction,\n",
    "        'min_data_in_leaf': min_data_in_leaf,\n",
    "        'lambda_l1': lambda_l1,\n",
    "        'lambda_l2': lambda_l2,\n",
    "        'bagging_fraction': 0.8,\n",
    "        'bagging_freq': 5,\n",
    "        'random_state': 42,\n",
    "        'is_unbalance': True\n",
    "    }\n",
    "    for num_leaves in param_grid['num_leaves']\n",
    "    for learning_rate in param_grid['learning_rate']\n",
    "    for feature_fraction in param_grid['feature_fraction']\n",
    "    for min_data_in_leaf in param_grid['min_data_in_leaf']\n",
    "    for lambda_l1 in param_grid['lambda_l1']\n",
    "    for lambda_l2 in param_grid['lambda_l2']\n",
    "]\n",
    "\n",
    "# Evaluate parameter combinations in parallel\n",
    "with concurrent.futures.ThreadPoolExecutor(max_workers=32) as executor:\n",
    "    futures = [\n",
    "        executor.submit(evaluate_model, params, train_x, train_y, skf)\n",
    "        for params in param_combinations\n",
    "    ]\n",
    "    for future, params in zip(concurrent.futures.as_completed(futures), param_combinations):\n",
    "        score = future.result()\n",
    "        print(f\"Params: {params}, AUC: {score}\")\n",
    "        if score > best_score:\n",
    "            best_score = score\n",
    "            best_params = params"
   ]
  }
 ],
 "metadata": {
  "kernelspec": {
   "display_name": "faiss_env",
   "language": "python",
   "name": "python3"
  },
  "language_info": {
   "codemirror_mode": {
    "name": "ipython",
    "version": 3
   },
   "file_extension": ".py",
   "mimetype": "text/x-python",
   "name": "python",
   "nbconvert_exporter": "python",
   "pygments_lexer": "ipython3",
   "version": "3.12.3"
  }
 },
 "nbformat": 4,
 "nbformat_minor": 2
}
