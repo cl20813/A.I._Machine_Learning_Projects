{
 "cells": [
  {
   "cell_type": "code",
   "execution_count": 1,
   "metadata": {},
   "outputs": [
    {
     "name": "stderr",
     "output_type": "stream",
     "text": [
      "c:\\Users\\joonw\\anaconda3\\envs\\jl2815\\Lib\\site-packages\\dask\\dataframe\\__init__.py:42: FutureWarning: \n",
      "Dask dataframe query planning is disabled because dask-expr is not installed.\n",
      "\n",
      "You can install it with `pip install dask[dataframe]` or `conda install dask`.\n",
      "This will raise in a future version.\n",
      "\n",
      "  warnings.warn(msg, FutureWarning)\n"
     ]
    }
   ],
   "source": [
    "import pandas as pd\n",
    "import numpy as np\n",
    "from matplotlib import pyplot as plt\n",
    "from scipy import stats\n",
    "import lightgbm as lgb\n",
    "from sklearn.model_selection import StratifiedKFold\n",
    "from sklearn.metrics import roc_auc_score\n",
    "import concurrent.futures\n",
    "from sklearn.model_selection import train_test_split\n",
    "from sklearn.metrics import classification_report"
   ]
  },
  {
   "cell_type": "markdown",
   "metadata": {},
   "source": [
    "The goal of the project is to predict policy holders who are likely to change their insurer to other companies. This is a classification problem with binary response variable \"convert_ind\", where 0 indicates the policy holder continues to use Travelers. "
   ]
  },
  {
   "cell_type": "code",
   "execution_count": 2,
   "metadata": {},
   "outputs": [],
   "source": [
    "df = pd.read_csv(\"C:\\\\Users\\\\joonw\\\\trav\\\\trav_dataset1.csv\")"
   ]
  },
  {
   "cell_type": "markdown",
   "metadata": {},
   "source": [
    "### Spliting dataset into training set and testing set"
   ]
  },
  {
   "cell_type": "code",
   "execution_count": 3,
   "metadata": {},
   "outputs": [],
   "source": [
    "# test_set = df[df['split']=='Test']  # all 0 for test data to prevent cheating\n",
    "\n",
    "# test_set = df.sample(frac=0.2, random_state=24)\n",
    "# test_mask = df.index.isin(test_set.index)\n",
    "# rain_set = df.loc[~test_mask,:].reset_index(drop=True)\n",
    "# test_set = test_set.reset_index(drop=True)\n",
    "\n",
    "from sklearn.model_selection import train_test_split\n",
    "train_set, test_set = train_test_split(df, test_size=0.2, stratify=df['convert_ind'], random_state=24)\n",
    "\n",
    "train_set = train_set.drop(columns=['split'])\n",
    "test_set = test_set.drop(columns=['split'])\n",
    "\n",
    "# Separate features and target from the entire training set\n",
    "train_y = train_set['convert_ind']\n",
    "train_x = train_set.drop(columns=['convert_ind'])\n",
    "\n",
    "test_y = test_set['convert_ind']\n",
    "test_x = test_set.drop(columns=['convert_ind'])"
   ]
  },
  {
   "cell_type": "markdown",
   "metadata": {},
   "source": [
    "### Modeling after optimizing hyper parameters"
   ]
  },
  {
   "cell_type": "code",
   "execution_count": null,
   "metadata": {},
   "outputs": [],
   "source": [
    "# Define the best hyperparameters from cross-validation\n",
    "best_params = {\n",
    "    'objective': 'binary',\n",
    "    'boosting_type': 'gbdt',\n",
    "    'metric': ['auc', 'average_precision'],\n",
    "    'num_leaves': 15,  # Example: From the grid search   15>20, 18\n",
    "    'learning_rate': 0.005, # 0.005> 0.003\n",
    "    'feature_fraction': 0.75,\n",
    "    'bagging_fraction': 0.8,\n",
    "    'bagging_freq': 5,\n",
    "    'random_state': 42,\n",
    "    'min_data_in_leaf': 20, # 20> 15,18, 22\n",
    "    'lambda_l1': 1,\n",
    "    'lambda_l2': 0.1,\n",
    "    'early_stopping_rounds': 50,\n",
    "}\n",
    "\n",
    "# Create the full LightGBM dataset\n",
    "full_train_dataset = lgb.Dataset(train_x, label=train_y)\n",
    "\n",
    "# Define a logging callback\n",
    "callbacks = [lgb.log_evaluation(period=50)]\n",
    "\n",
    "# Train the model on the full training set\n",
    "final_model = lgb.train(\n",
    "    best_params,\n",
    "    full_train_dataset,\n",
    "    num_boost_round=2000,  # Use a high value to allow full convergence\n",
    "    valid_sets=[full_train_dataset],\n",
    "    valid_names=['train'],\n",
    "    callbacks=callbacks  # Use callbacks for logging\n",
    ")\n",
    "\n",
    "# Save the model for future use\n",
    "final_model.save_model('final_model.txt')\n"
   ]
  },
  {
   "cell_type": "code",
   "execution_count": 70,
   "metadata": {},
   "outputs": [
    {
     "name": "stdout",
     "output_type": "stream",
     "text": [
      "Test AUC: 0.6293\n"
     ]
    }
   ],
   "source": [
    "# Evaluate on the test set\n",
    "test_y = test_set['convert_ind']\n",
    "test_x = test_set.drop(columns=['convert_ind'])\n",
    "\n",
    "mm = np.mean(df['convert_ind'])\n",
    "\n",
    "\n",
    "test_pred = final_model.predict(test_x)\n",
    "test_pred = (test_pred > mm).astype(int)\n",
    "test_auc = roc_auc_score(test_y, test_pred)\n",
    "print(f\"Test AUC: {test_auc:.4f}\")"
   ]
  },
  {
   "cell_type": "markdown",
   "metadata": {},
   "source": [
    "### smote was not helpful\n",
    "\n"
   ]
  },
  {
   "cell_type": "markdown",
   "metadata": {},
   "source": [
    "### Parameter Opitmization\n",
    "\n",
    "It seems grid search is more efficient than RandomizedSearch"
   ]
  },
  {
   "cell_type": "markdown",
   "metadata": {},
   "source": [
    "Grid search"
   ]
  },
  {
   "cell_type": "code",
   "execution_count": null,
   "metadata": {},
   "outputs": [],
   "source": [
    "def evaluate_model(params, train_x, train_y, skf):\n",
    "    \"\"\"Evaluate a model with the given parameters using cross-validation.\"\"\"\n",
    "    train_set = lgb.Dataset(train_x, label=train_y)\n",
    "    \n",
    "    # Perform cross-validation\n",
    "    cv_results = lgb.cv(\n",
    "        params,\n",
    "        train_set,\n",
    "        num_boost_round=2000,\n",
    "        folds=skf.split(train_x, train_y),\n",
    "        metrics='auc',\n",
    "        seed=42\n",
    "    )\n",
    "    \n",
    "    # Get the best AUC score\n",
    "    score = max(cv_results['valid auc-mean'])\n",
    "    return score\n",
    "\n",
    "# Parameter grid for hyperparameter tuning\n",
    "param_grid = {\n",
    "    'num_leaves': np.arange(10, 20),\n",
    "    'learning_rate': [0.005, 0.01, 0.02, 0.03],\n",
    "    'feature_fraction': [0.75, 0.8, 0.85],\n",
    "    'min_data_in_leaf': [10, 20, 30],\n",
    "    'lambda_l1': [0, 0.1, 1],\n",
    "    'lambda_l2': [0, 0.1, 1],\n",
    "    'early_stopping_rounds':50\n",
    "}\n",
    "\n",
    "skf = StratifiedKFold(n_splits=10, shuffle=True, random_state=42)\n",
    "best_score = 0\n",
    "best_params = None\n",
    "\n",
    "# Create a list of all parameter combinations\n",
    "param_combinations = [\n",
    "    {\n",
    "        'objective': 'binary',\n",
    "        'boosting_type': 'gbdt',\n",
    "        'metric': 'auc',\n",
    "        'num_leaves': num_leaves,\n",
    "        'learning_rate': learning_rate,\n",
    "        'feature_fraction': feature_fraction,\n",
    "        'min_data_in_leaf': min_data_in_leaf,\n",
    "        'lambda_l1': lambda_l1,\n",
    "        'lambda_l2': lambda_l2,\n",
    "        'bagging_fraction': 0.8,\n",
    "        'bagging_freq': 5,\n",
    "        'random_state': 42,\n",
    "        'is_unbalance': True\n",
    "    }\n",
    "    for num_leaves in param_grid['num_leaves']\n",
    "    for learning_rate in param_grid['learning_rate']\n",
    "    for feature_fraction in param_grid['feature_fraction']\n",
    "    for min_data_in_leaf in param_grid['min_data_in_leaf']\n",
    "    for lambda_l1 in param_grid['lambda_l1']\n",
    "    for lambda_l2 in param_grid['lambda_l2']\n",
    "]\n",
    "\n",
    "# Evaluate parameter combinations in parallel\n",
    "with concurrent.futures.ThreadPoolExecutor(max_workers=32) as executor:\n",
    "    futures = [\n",
    "        executor.submit(evaluate_model, params, train_x, train_y, skf)\n",
    "        for params in param_combinations\n",
    "    ]\n",
    "    for future, params in zip(concurrent.futures.as_completed(futures), param_combinations):\n",
    "        score = future.result()\n",
    "        print(f\"Params: {params}, AUC: {score}\")\n",
    "        if score > best_score:\n",
    "            best_score = score\n",
    "            best_params = params"
   ]
  },
  {
   "cell_type": "markdown",
   "metadata": {},
   "source": [
    "### previous code"
   ]
  },
  {
   "cell_type": "code",
   "execution_count": null,
   "metadata": {},
   "outputs": [],
   "source": [
    "param_grid = {\n",
    "    'num_leaves': [15, 31, 63],\n",
    "    'learning_rate': [0.01, 0.05, 0.1],\n",
    "    'feature_fraction': [0.6, 0.8, 1.0]\n",
    "}\n",
    "\n",
    "best_score = 0\n",
    "best_params = None\n",
    "\n",
    "for num_leaves in param_grid['num_leaves']:\n",
    "    for learning_rate in param_grid['learning_rate']:\n",
    "        for feature_fraction in param_grid['feature_fraction']:\n",
    "            # Update parameters\n",
    "            params = {\n",
    "                'objective': 'binary',\n",
    "                'boosting_type': 'gbdt',\n",
    "                'metric': 'auc',\n",
    "                'num_leaves': num_leaves,\n",
    "                'learning_rate': learning_rate,\n",
    "                'feature_fraction': feature_fraction,\n",
    "                'bagging_fraction': 0.8,\n",
    "                'bagging_freq': 5,\n",
    "                'random_state': 42,\n",
    "                'early_stopping_round': 50  # Include early stopping here\n",
    "            }\n",
    "            \n",
    "            # Perform cross-validation\n",
    "            cv_results = lgb.cv(\n",
    "                params,\n",
    "                train_set,\n",
    "                num_boost_round=1000,\n",
    "                nfold=10,\n",
    "                metrics='auc',\n",
    "                seed=42\n",
    "            )\n",
    "            \n",
    "            # Get the best score\n",
    "            # print(cv_results.keys())\n",
    "            score = max(cv_results['valid auc-mean'])  # Access the mean AUC\n",
    "            if score > best_score:\n",
    "                best_score = score\n",
    "                best_params = params\n",
    "\n",
    "# Print the best parameters and score\n",
    "print(\"Best Parameters:\", best_params)\n",
    "print(\"Best CV AUC Score:\", best_score)\n",
    "\n"
   ]
  },
  {
   "cell_type": "markdown",
   "metadata": {},
   "source": [
    "Best Parameters: {'objective': 'binary', 'boosting_type': 'gbdt', 'metric': 'auc', 'num_leaves': 15, 'learning_rate': 0.01, 'feature_fraction': 0.8, 'bagging_fraction': 0.8, 'bagging_freq': 5, 'random_state': 42, 'early_stopping_round': 50}\n",
    "Best CV AUC Score: 0.677994801447962"
   ]
  },
  {
   "cell_type": "markdown",
   "metadata": {},
   "source": [
    "### Results"
   ]
  },
  {
   "cell_type": "markdown",
   "metadata": {},
   "source": [
    "Confusion matrix"
   ]
  },
  {
   "cell_type": "code",
   "execution_count": 30,
   "metadata": {},
   "outputs": [
    {
     "name": "stdout",
     "output_type": "stream",
     "text": [
      "Confusion matrix\n",
      "\n",
      " [[5709 3300]\n",
      " [ 309  515]]\n",
      "\n",
      "True Positives(TP) =  5709\n",
      "\n",
      "True Negatives(TN) =  515\n",
      "\n",
      "False Positives(FP) =  3300\n",
      "\n",
      "False Negatives(FN) =  309\n"
     ]
    }
   ],
   "source": [
    "# view confusion-matrix\n",
    "# Print the Confusion Matrix and slice it into four pieces\n",
    "\n",
    "from sklearn.metrics import confusion_matrix\n",
    "cm = confusion_matrix(test_y, test_pred)\n",
    "print('Confusion matrix\\n\\n', cm)\n",
    "print('\\nTrue Positives(TP) = ', cm[0,0])\n",
    "print('\\nTrue Negatives(TN) = ', cm[1,1])\n",
    "print('\\nFalse Positives(FP) = ', cm[0,1])\n",
    "print('\\nFalse Negatives(FN) = ', cm[1,0])"
   ]
  },
  {
   "cell_type": "markdown",
   "metadata": {},
   "source": [
    "Classification matrix"
   ]
  },
  {
   "cell_type": "code",
   "execution_count": 31,
   "metadata": {},
   "outputs": [
    {
     "name": "stdout",
     "output_type": "stream",
     "text": [
      "              precision    recall  f1-score   support\n",
      "\n",
      "         0.0       0.95      0.63      0.76      9009\n",
      "         1.0       0.13      0.62      0.22       824\n",
      "\n",
      "    accuracy                           0.63      9833\n",
      "   macro avg       0.54      0.63      0.49      9833\n",
      "weighted avg       0.88      0.63      0.71      9833\n",
      "\n"
     ]
    }
   ],
   "source": [
    "print(classification_report(test_y, test_pred))"
   ]
  }
 ],
 "metadata": {
  "kernelspec": {
   "display_name": "jl2815",
   "language": "python",
   "name": "python3"
  },
  "language_info": {
   "codemirror_mode": {
    "name": "ipython",
    "version": 3
   },
   "file_extension": ".py",
   "mimetype": "text/x-python",
   "name": "python",
   "nbconvert_exporter": "python",
   "pygments_lexer": "ipython3",
   "version": "3.12.2"
  }
 },
 "nbformat": 4,
 "nbformat_minor": 2
}
